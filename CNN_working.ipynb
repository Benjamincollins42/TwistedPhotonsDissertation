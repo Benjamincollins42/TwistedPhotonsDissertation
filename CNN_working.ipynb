{
  "nbformat": 4,
  "nbformat_minor": 0,
  "metadata": {
    "colab": {
      "name": "CNN_working.ipynb",
      "provenance": [],
      "collapsed_sections": [],
      "authorship_tag": "ABX9TyNgor894/RpYxxpxbzaK++0"
    },
    "kernelspec": {
      "name": "python3",
      "display_name": "Python 3"
    }
  },
  "cells": [
    {
      "cell_type": "code",
      "metadata": {
        "id": "meWxozLSsO22"
      },
      "source": [
        "from __future__ import division\r\n",
        "import math\r\n",
        "import numpy as np\r\n",
        "import matplotlib.pyplot as plt\r\n",
        "import matplotlib.cm as cm\r\n",
        "import matplotlib.colors as colors\r\n",
        "import Laguerre_Gaussian as LG\r\n",
        "import phaseScreenGeneration as PS\r\n",
        "import CNN_Util as CU\r\n",
        "import tensorflow as tf\r\n",
        "from tensorflow import keras\r\n",
        "import os\r\n",
        "import pandas as pd\r\n",
        "import h5py"
      ],
      "execution_count": null,
      "outputs": []
    },
    {
      "cell_type": "code",
      "metadata": {
        "id": "lcGaZz_xtoTr"
      },
      "source": [
        "#Data metadata\r\n",
        "modesUsed = 4\r\n",
        "numTrainBatchPerMode = 4\r\n",
        "batchSize = 50\r\n",
        "numValBatchPerMode = 1\r\n",
        "numBatchPerMode = 5"
      ],
      "execution_count": null,
      "outputs": []
    },
    {
      "cell_type": "code",
      "metadata": {
        "id": "EAX3vJlptttM"
      },
      "source": [
        "#Data preprocessing\r\n",
        "ML_BATCH_SIZE = 50\r\n",
        "epochs = 10\r\n",
        "\r\n",
        "train_data_gen = CU.batch_generator(idsT, ML_BATCH_SIZE, numTrainBatchPerMode,\r\n",
        "                                 trainingDataList, trainingDataLabel, batchSize)\r\n",
        "\r\n",
        "val_data_gen = CU.batch_generatorV(idsV, ML_BATCH_SIZE, numValBatchPerMode,\r\n",
        "                                 validationDataList, validationDataLabel, batchSize)"
      ],
      "execution_count": null,
      "outputs": []
    },
    {
      "cell_type": "code",
      "metadata": {
        "id": "W9OlS6LatvfG"
      },
      "source": [
        "testModel = keras.Sequential([\r\n",
        "    keras.layers.Conv2D(16 ,(5,5), activation = 'relu', padding='same', input_shape=(256,256,1)),\r\n",
        "    keras.layers.MaxPooling2D(),\r\n",
        "    keras.layers.Dropout(0.2),\r\n",
        "    #keras.layers.Conv2D(32, 3, activation = 'relu', padding='same'),\r\n",
        "    #keras.layers.MaxPooling2D(),\r\n",
        "    #keras.layers.Dropout(0.2),\r\n",
        "    keras.layers.Flatten(),\r\n",
        "    #keras.layers.Dense(128, activation = 'relu'),\r\n",
        "    keras.layers.Dense(32, activation = 'relu'),\r\n",
        "    keras.layers.Dense(32, activation = 'softmax')\r\n",
        "])\r\n",
        "\r\n",
        "testModel.compile(\r\n",
        "    optimizer='adam',\r\n",
        "    loss = 'sparse_categorical_crossentropy',\r\n",
        "    metrics=['accuracy']\r\n",
        ")\r\n",
        "\r\n",
        "testModel.summary()"
      ],
      "execution_count": null,
      "outputs": []
    },
    {
      "cell_type": "code",
      "metadata": {
        "id": "cCpZ6YFmt1Wu"
      },
      "source": [
        "history = testModel.fit_generator(\r\n",
        "    train_data_gen,\r\n",
        "    steps_per_epoch = np.ceil(len(idsT) / ML_BATCH_SIZE),\r\n",
        "    epochs=epochs,\r\n",
        "    validation_data=val_data_gen,\r\n",
        "    validation_steps= len(idsV) // ML_BATCH_SIZE\r\n",
        ")"
      ],
      "execution_count": null,
      "outputs": []
    },
    {
      "cell_type": "code",
      "metadata": {
        "id": "b979YjM7t3iQ"
      },
      "source": [
        "CU.historyGraphs(history, range(epochs))"
      ],
      "execution_count": null,
      "outputs": []
    },
    {
      "cell_type": "code",
      "metadata": {
        "id": "AgIiLs7it4Ou"
      },
      "source": [
        "# convert the history.history dict to a pandas DataFrame:     \r\n",
        "hist_df = pd.DataFrame(history.history) \r\n",
        "\r\n",
        "# save to json:  \r\n",
        "hist_json_file = 'CNN_D&G/3x3medium4ModeCNN1History.json' \r\n",
        "with open(hist_json_file, mode='w') as f:\r\n",
        "    hist_df.to_json(f)\r\n",
        "\r\n",
        "testModel.save(\"CNN_D&G/3x3medium4ModeCNN1Model.h5\")"
      ],
      "execution_count": null,
      "outputs": []
    }
  ]
}