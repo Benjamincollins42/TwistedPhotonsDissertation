{
 "cells": [
  {
   "cell_type": "code",
   "execution_count": 1,
   "metadata": {},
   "outputs": [
    {
     "data": {
      "text/plain": [
       "<Figure size 640x480 with 1 Axes>"
      ]
     },
     "metadata": {},
     "output_type": "display_data"
    }
   ],
   "source": [
    "from __future__ import division\n",
    "import numpy as np\n",
    "import matplotlib.pyplot as plt\n",
    "import matplotlib.cm as cm\n",
    "import matplotlib.colors as colors\n",
    "\n",
    "#Functions describing the beam\n",
    "#Functions generating vaules that don't change over location\n",
    "def zR(w0, La):\n",
    "    '''Function to calculate the Rayleigh range'''\n",
    "    return np.pi * w0 ** 2 / La\n",
    "\n",
    "def wZ(w0, z, Zr):\n",
    "    '''Function to calculate the spot size parameter'''\n",
    "    return w0 * np.sqrt(1 + (z / Zr) ** 2)\n",
    "\n",
    "def k(La):\n",
    "    '''Fucntion to calculate the wavenumber'''\n",
    "    return 2 * np.pi / La\n",
    "\n",
    "def R(r, z, l, p, wz, k, zr):\n",
    "    '''Fucntion to calculate the radial part of a beam'''\n",
    "    return np.sqrt( (2*np.math.factorial(p)) / (np.pi*np.math.factorial(p + np.abs(l))) ) * (1/wz) * (r*np.sqrt(2)/wz) ** np.abs(l) * np.exp(-(r/wz)**2) * np.exp(-0.5j*k*z*r**2/(z**2 + zr**2))\n",
    "\n",
    "def intensityGen(r, z, l, p, wz, k, zr, phi):\n",
    "    '''Fucntion to calculate the intensity at a given point'''\n",
    "    return 2 * np.abs(R(r, z, l, p, wz, k, zr)**2) * (1 + np.cos(2*l*phi))\n",
    "\n",
    "#Constants\n",
    "res = 512 #Number of pixels N, in a N x N image\n",
    "realSize = 1 #Diameter in m of the image\n",
    "scale = realSize / res\n",
    "axialDistance = 100000\n",
    "wavelength = 500 * 10 ** (-9)\n",
    "waistRadius = 0.13\n",
    "pQNumber = 0\n",
    "lQNumber = 3\n",
    "\n",
    "#Generating the arrays of distance and angle\n",
    "distance = np.zeros((res,res))\n",
    "angle = np.zeros((res,res))\n",
    "for i in range(0, res):\n",
    "    for j in range(0, res):\n",
    "        x = (i - (res / 2) + 0.5)\n",
    "        y = (j - (res / 2) - 0.5)\n",
    "        distance[i,j] = np.sqrt(x**2 + y**2) * scale\n",
    "        angle[i,j] = np.arctan(x / y)\n",
    "\n",
    "#Generating the intensity map\n",
    "Intensity = np.zeros((res,res))\n",
    "rayleighRange = zR(waistRadius, wavelength)\n",
    "spotSizeParam = wZ(waistRadius, axialDistance, rayleighRange)\n",
    "waveNumber = k(wavelength)\n",
    "\n",
    "for i in range(0, res):\n",
    "    for j in range(0, res):\n",
    "        Intensity[i,j] = intensityGen(distance[i,j], axialDistance, lQNumber, pQNumber, spotSizeParam, waveNumber, rayleighRange, angle[i,j])\n",
    "\n",
    "#Graph Plotting\n",
    "plt.figure()\n",
    "im = plt.imshow(Intensity, cmap = cm.viridis)\n",
    "im.axes.get_xaxis().set_visible(False)\n",
    "im.axes.get_yaxis().set_visible(False)"
   ]
  },
  {
   "cell_type": "code",
   "execution_count": null,
   "metadata": {},
   "outputs": [],
   "source": []
  }
 ],
 "metadata": {
  "kernelspec": {
   "display_name": "Python 3",
   "language": "python",
   "name": "python3"
  },
  "language_info": {
   "codemirror_mode": {
    "name": "ipython",
    "version": 3
   },
   "file_extension": ".py",
   "mimetype": "text/x-python",
   "name": "python",
   "nbconvert_exporter": "python",
   "pygments_lexer": "ipython3",
   "version": "3.6.3"
  }
 },
 "nbformat": 4,
 "nbformat_minor": 2
}
